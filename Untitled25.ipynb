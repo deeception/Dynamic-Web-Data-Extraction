{
  "nbformat": 4,
  "nbformat_minor": 0,
  "metadata": {
    "colab": {
      "provenance": [],
      "gpuType": "T4",
      "authorship_tag": "ABX9TyN7alw10gbFeJMn85UMt9rH",
      "include_colab_link": true
    },
    "kernelspec": {
      "name": "python3",
      "display_name": "Python 3"
    },
    "language_info": {
      "name": "python"
    },
    "accelerator": "GPU"
  },
  "cells": [
    {
      "cell_type": "markdown",
      "metadata": {
        "id": "view-in-github",
        "colab_type": "text"
      },
      "source": [
        "<a href=\"https://colab.research.google.com/github/deeception/Dynamic-Web-Data-Extraction/blob/main/Untitled25.ipynb\" target=\"_parent\"><img src=\"https://colab.research.google.com/assets/colab-badge.svg\" alt=\"Open In Colab\"/></a>"
      ]
    },
    {
      "cell_type": "code",
      "source": [
        "# STEP 0: SETUP AND DEPENDENCIES INSTALLATION\n",
        "# ==============================================================================\n",
        "print(\"--- STEP 0: Installing all required system and Python libraries ---\")\n",
        "# Install system libraries for OCR and PDF processing\n",
        "!apt-get update && apt-get install -y poppler-utils tesseract-ocr libtesseract-dev tesseract-ocr-hin tesseract-ocr-eng\n",
        "\n",
        "# Install core Python libraries for OCR, layout parsing, NLP, and graph analysis\n",
        "!pip install --upgrade pip\n",
        "!pip install pytesseract==0.3.10 pdf2image==1.16.3 opencv-python==4.9.0.80 Pillow==10.2.0 python-magic==0.4.27\n",
        "!pip install layoutparser[ocr]==0.3.4 unstructured[pdf]==0.12.5 unstructured_inference==0.7.27\n",
        "!pip install tabula-py==2.8.0 camelot-py[cv]==0.11.0 keybert==0.8.0 pandas==2.1.4 numpy==1.26.4 jinja2==3.1.3\n",
        "!pip install pyvis==0.3.2 scikit-learn==1.3.2 transformers==4.38.1 sentence-transformers==2.5.1 networkx==3.2.1 langdetect==1.0.9\n",
        "print(\"[OK] All dependencies installed successfully.\\n\")"
      ],
      "metadata": {
        "id": "adiUiFS3Lutm"
      },
      "execution_count": null,
      "outputs": []
    },
    {
      "cell_type": "code",
      "source": [],
      "metadata": {
        "id": "jnbTg6E8LuvI"
      },
      "execution_count": null,
      "outputs": []
    },
    {
      "cell_type": "code",
      "source": [],
      "metadata": {
        "id": "_4YGB0sULuw0"
      },
      "execution_count": null,
      "outputs": []
    },
    {
      "cell_type": "code",
      "source": [],
      "metadata": {
        "id": "QcY22Ff4Luym"
      },
      "execution_count": null,
      "outputs": []
    },
    {
      "cell_type": "code",
      "source": [],
      "metadata": {
        "id": "j_dMRbQ4Lu2B"
      },
      "execution_count": null,
      "outputs": []
    }
  ]
}